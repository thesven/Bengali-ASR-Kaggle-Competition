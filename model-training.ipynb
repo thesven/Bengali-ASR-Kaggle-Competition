{
 "cells": [
  {
   "cell_type": "markdown",
   "metadata": {},
   "source": [
    "# Bengali.AI Speech Recognition\n",
    "## Recognize Bengali speech from out-of-distribution audio recordings\n",
    "https://www.kaggle.com/competitions/bengaliai-speech/overview"
   ]
  },
  {
   "cell_type": "markdown",
   "metadata": {},
   "source": [
    "The goal of this competition is to recognize Bengali speech from out-of-distribution audio recordings. You will build a model trained on the first Massively Crowdsourced (MaCro) Bengali speech dataset with 1,200 hours of data from ~24,000 people from India and Bangladesh. The test set contains samples from 17 different domains that are not present in training.\n",
    "\n",
    "Your efforts could improve Bengali speech recognition using the first Bengali out-of-distribution speech recognition dataset. In addition, your submission will be among the first open-source speech recognition methods for Bengali.\n",
    "\n",
    "The full test set contains about 20 hours of speech in almost 8000 MP3 audio files. All of the files in the test set are encoded at a sample rate of 32k, a bit rate of 48k, in one channel.\n",
    "\n",
    "Details on the dataset are available in the dataset paper: https://arxiv.org/abs/2305.09688"
   ]
  },
  {
   "cell_type": "markdown",
   "metadata": {},
   "source": [
    "## Log into hugging face"
   ]
  },
  {
   "cell_type": "code",
   "execution_count": 1,
   "metadata": {},
   "outputs": [
    {
     "data": {
      "application/vnd.jupyter.widget-view+json": {
       "model_id": "cf15de2c6c7c49e5825714aa8e47b102",
       "version_major": 2,
       "version_minor": 0
      },
      "text/plain": [
       "VBox(children=(HTML(value='<center> <img\\nsrc=https://huggingface.co/front/assets/huggingface_logo-noborder.sv…"
      ]
     },
     "metadata": {},
     "output_type": "display_data"
    }
   ],
   "source": [
    "from huggingface_hub import notebook_login\n",
    "notebook_login()"
   ]
  },
  {
   "cell_type": "code",
   "execution_count": 2,
   "metadata": {},
   "outputs": [],
   "source": [
    "TRAINING_CSV_PATH = \"bengaliai-speech/train.csv\""
   ]
  },
  {
   "cell_type": "code",
   "execution_count": 11,
   "metadata": {},
   "outputs": [
    {
     "name": "stdout",
     "output_type": "stream",
     "text": [
      "Number of training samples: 963636\n"
     ]
    },
    {
     "data": {
      "text/html": [
       "<div>\n",
       "<style scoped>\n",
       "    .dataframe tbody tr th:only-of-type {\n",
       "        vertical-align: middle;\n",
       "    }\n",
       "\n",
       "    .dataframe tbody tr th {\n",
       "        vertical-align: top;\n",
       "    }\n",
       "\n",
       "    .dataframe thead th {\n",
       "        text-align: right;\n",
       "    }\n",
       "</style>\n",
       "<table border=\"1\" class=\"dataframe\">\n",
       "  <thead>\n",
       "    <tr style=\"text-align: right;\">\n",
       "      <th></th>\n",
       "      <th>id</th>\n",
       "      <th>sentence</th>\n",
       "      <th>split</th>\n",
       "    </tr>\n",
       "  </thead>\n",
       "  <tbody>\n",
       "    <tr>\n",
       "      <th>0</th>\n",
       "      <td>000005f3362c</td>\n",
       "      <td>ও বলেছে আপনার ঠিকানা!</td>\n",
       "      <td>train</td>\n",
       "    </tr>\n",
       "    <tr>\n",
       "      <th>1</th>\n",
       "      <td>00001dddd002</td>\n",
       "      <td>কোন মহান রাষ্ট্রের নাগরিক হতে চাও?</td>\n",
       "      <td>train</td>\n",
       "    </tr>\n",
       "    <tr>\n",
       "      <th>2</th>\n",
       "      <td>00001e0bc131</td>\n",
       "      <td>আমি তোমার কষ্টটা বুঝছি, কিন্তু এটা সঠিক পথ না।</td>\n",
       "      <td>train</td>\n",
       "    </tr>\n",
       "    <tr>\n",
       "      <th>3</th>\n",
       "      <td>000024b3d810</td>\n",
       "      <td>নাচ শেষ হওয়ার পর সকলে শরীর ধুয়ে একসঙ্গে ভোজন...</td>\n",
       "      <td>train</td>\n",
       "    </tr>\n",
       "    <tr>\n",
       "      <th>4</th>\n",
       "      <td>000028220ab3</td>\n",
       "      <td>হুমম, ওহ হেই, দেখো।</td>\n",
       "      <td>train</td>\n",
       "    </tr>\n",
       "  </tbody>\n",
       "</table>\n",
       "</div>"
      ],
      "text/plain": [
       "             id                                           sentence  split\n",
       "0  000005f3362c                              ও বলেছে আপনার ঠিকানা!  train\n",
       "1  00001dddd002                 কোন মহান রাষ্ট্রের নাগরিক হতে চাও?  train\n",
       "2  00001e0bc131     আমি তোমার কষ্টটা বুঝছি, কিন্তু এটা সঠিক পথ না।  train\n",
       "3  000024b3d810  নাচ শেষ হওয়ার পর সকলে শরীর ধুয়ে একসঙ্গে ভোজন...  train\n",
       "4  000028220ab3                                হুমম, ওহ হেই, দেখো।  train"
      ]
     },
     "execution_count": 11,
     "metadata": {},
     "output_type": "execute_result"
    }
   ],
   "source": [
    "import pandas as pd\n",
    "\n",
    "data = pd.read_csv(f\"{TRAINING_CSV_PATH}\")\n",
    "print(f\"Number of training samples: {len(data)}\")\n",
    "data.head()"
   ]
  },
  {
   "cell_type": "markdown",
   "metadata": {},
   "source": [
    "## Pre-process the data"
   ]
  },
  {
   "cell_type": "code",
   "execution_count": 23,
   "metadata": {},
   "outputs": [
    {
     "name": "stdout",
     "output_type": "stream",
     "text": [
      "split\n",
      "train    934048\n",
      "valid     29588\n",
      "Name: count, dtype: int64\n",
      "Number of training samples: 934048\n",
      "Number of testing samples: 29588\n"
     ]
    },
    {
     "data": {
      "text/html": [
       "<div>\n",
       "<style scoped>\n",
       "    .dataframe tbody tr th:only-of-type {\n",
       "        vertical-align: middle;\n",
       "    }\n",
       "\n",
       "    .dataframe tbody tr th {\n",
       "        vertical-align: top;\n",
       "    }\n",
       "\n",
       "    .dataframe thead th {\n",
       "        text-align: right;\n",
       "    }\n",
       "</style>\n",
       "<table border=\"1\" class=\"dataframe\">\n",
       "  <thead>\n",
       "    <tr style=\"text-align: right;\">\n",
       "      <th></th>\n",
       "      <th>id</th>\n",
       "      <th>sentence</th>\n",
       "      <th>split</th>\n",
       "      <th>file_path</th>\n",
       "      <th>audio</th>\n",
       "    </tr>\n",
       "  </thead>\n",
       "  <tbody>\n",
       "    <tr>\n",
       "      <th>0</th>\n",
       "      <td>000005f3362c</td>\n",
       "      <td>ও বলেছে আপনার ঠিকানা!</td>\n",
       "      <td>train</td>\n",
       "      <td>./bengaliai-speech/train_mp3s/000005f3362c.mp3</td>\n",
       "      <td>[0.0, 1.2770395e-13, 9.996642e-15, -1.6432678e...</td>\n",
       "    </tr>\n",
       "    <tr>\n",
       "      <th>1</th>\n",
       "      <td>00001dddd002</td>\n",
       "      <td>কোন মহান রাষ্ট্রের নাগরিক হতে চাও?</td>\n",
       "      <td>train</td>\n",
       "      <td>./bengaliai-speech/train_mp3s/00001dddd002.mp3</td>\n",
       "      <td>[0.0, 1.4704359e-13, 3.3958074e-13, -3.4793018...</td>\n",
       "    </tr>\n",
       "    <tr>\n",
       "      <th>2</th>\n",
       "      <td>00001e0bc131</td>\n",
       "      <td>আমি তোমার কষ্টটা বুঝছি, কিন্তু এটা সঠিক পথ না।</td>\n",
       "      <td>train</td>\n",
       "      <td>./bengaliai-speech/train_mp3s/00001e0bc131.mp3</td>\n",
       "      <td>[0.0, 1.446659e-14, -5.119921e-15, -2.5697824e...</td>\n",
       "    </tr>\n",
       "    <tr>\n",
       "      <th>3</th>\n",
       "      <td>000024b3d810</td>\n",
       "      <td>নাচ শেষ হওয়ার পর সকলে শরীর ধুয়ে একসঙ্গে ভোজন...</td>\n",
       "      <td>train</td>\n",
       "      <td>./bengaliai-speech/train_mp3s/000024b3d810.mp3</td>\n",
       "      <td>[0.0, 0.0, 0.0, 0.0, 0.0, 0.0, 0.0, 0.0, 0.0, ...</td>\n",
       "    </tr>\n",
       "    <tr>\n",
       "      <th>4</th>\n",
       "      <td>000028220ab3</td>\n",
       "      <td>হুমম, ওহ হেই, দেখো।</td>\n",
       "      <td>train</td>\n",
       "      <td>./bengaliai-speech/train_mp3s/000028220ab3.mp3</td>\n",
       "      <td>[0.0, -8.549696e-14, -3.1352218e-13, -4.597286...</td>\n",
       "    </tr>\n",
       "  </tbody>\n",
       "</table>\n",
       "</div>"
      ],
      "text/plain": [
       "             id                                           sentence  split  \\\n",
       "0  000005f3362c                              ও বলেছে আপনার ঠিকানা!  train   \n",
       "1  00001dddd002                 কোন মহান রাষ্ট্রের নাগরিক হতে চাও?  train   \n",
       "2  00001e0bc131     আমি তোমার কষ্টটা বুঝছি, কিন্তু এটা সঠিক পথ না।  train   \n",
       "3  000024b3d810  নাচ শেষ হওয়ার পর সকলে শরীর ধুয়ে একসঙ্গে ভোজন...  train   \n",
       "4  000028220ab3                                হুমম, ওহ হেই, দেখো।  train   \n",
       "\n",
       "                                        file_path  \\\n",
       "0  ./bengaliai-speech/train_mp3s/000005f3362c.mp3   \n",
       "1  ./bengaliai-speech/train_mp3s/00001dddd002.mp3   \n",
       "2  ./bengaliai-speech/train_mp3s/00001e0bc131.mp3   \n",
       "3  ./bengaliai-speech/train_mp3s/000024b3d810.mp3   \n",
       "4  ./bengaliai-speech/train_mp3s/000028220ab3.mp3   \n",
       "\n",
       "                                               audio  \n",
       "0  [0.0, 1.2770395e-13, 9.996642e-15, -1.6432678e...  \n",
       "1  [0.0, 1.4704359e-13, 3.3958074e-13, -3.4793018...  \n",
       "2  [0.0, 1.446659e-14, -5.119921e-15, -2.5697824e...  \n",
       "3  [0.0, 0.0, 0.0, 0.0, 0.0, 0.0, 0.0, 0.0, 0.0, ...  \n",
       "4  [0.0, -8.549696e-14, -3.1352218e-13, -4.597286...  "
      ]
     },
     "execution_count": 23,
     "metadata": {},
     "output_type": "execute_result"
    }
   ],
   "source": [
    "import librosa\n",
    "\n",
    "# Load audio files with librosa\n",
    "# Load audio files with librosa\n",
    "def load_audio(file_path):\n",
    "    y, sr = librosa.load(file_path, sr=16000)\n",
    "    return y\n",
    "\n",
    "def populate_files(frame, limit=10):\n",
    "    # Generate file paths based on the 'id' column\n",
    "    frame['file_path'] = frame['id'].apply(lambda x: f\"./bengaliai-speech/train_mp3s/{x}.mp3\")\n",
    "    \n",
    "    # Load audio from each file and store it in the 'audio' column, but limit to 'limit' number of files\n",
    "    frame['audio'] = frame['file_path'].head(limit).apply(load_audio)\n",
    "    \n",
    "    return frame\n",
    "\n",
    "\n",
    "data = populate_files(data, limit=10)\n",
    "\n",
    "## Split the data into training and testing based on values in the 'split' column\n",
    "print(data['split'].value_counts())\n",
    "train_df = data[data['split'] == 'train']\n",
    "train_df.drop(columns=['split'])\n",
    "print(f\"Number of training samples: {len(train_df)}\")\n",
    "validation_df = data[data['split'] == 'valid']\n",
    "validation_df.drop(columns=['split'])\n",
    "print(f\"Number of testing samples: {len(validation_df)}\")\n",
    "\n",
    "train_df.head()"
   ]
  },
  {
   "cell_type": "code",
   "execution_count": null,
   "metadata": {},
   "outputs": [],
   "source": []
  },
  {
   "cell_type": "markdown",
   "metadata": {},
   "source": [
    "## Load WhisperFeatureExtractor"
   ]
  },
  {
   "cell_type": "markdown",
   "metadata": {},
   "source": [
    "## Load WhisperTokenizer"
   ]
  },
  {
   "cell_type": "markdown",
   "metadata": {},
   "source": [
    "## Create A WhisperProcessor"
   ]
  },
  {
   "cell_type": "markdown",
   "metadata": {},
   "source": [
    "## Prepare Data"
   ]
  },
  {
   "cell_type": "code",
   "execution_count": null,
   "metadata": {},
   "outputs": [],
   "source": []
  },
  {
   "cell_type": "code",
   "execution_count": null,
   "metadata": {},
   "outputs": [],
   "source": []
  }
 ],
 "metadata": {
  "kernelspec": {
   "display_name": ".venv",
   "language": "python",
   "name": "python3"
  },
  "language_info": {
   "codemirror_mode": {
    "name": "ipython",
    "version": 3
   },
   "file_extension": ".py",
   "mimetype": "text/x-python",
   "name": "python",
   "nbconvert_exporter": "python",
   "pygments_lexer": "ipython3",
   "version": "3.11.4"
  },
  "orig_nbformat": 4
 },
 "nbformat": 4,
 "nbformat_minor": 2
}
