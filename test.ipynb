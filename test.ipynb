{
 "cells": [
  {
   "cell_type": "markdown",
   "metadata": {},
   "source": [
    "## import the required packages"
   ]
  },
  {
   "cell_type": "code",
   "execution_count": 51,
   "metadata": {},
   "outputs": [],
   "source": [
    "import os\n",
    "import pandas as pd\n",
    "import torch\n",
    "\n",
    "from transformers import WhisperProcessor, WhisperForConditionalGeneration\n",
    "from datasets import Dataset, DatasetDict, Audio"
   ]
  },
  {
   "cell_type": "markdown",
   "metadata": {},
   "source": [
    "## set any required constants"
   ]
  },
  {
   "cell_type": "code",
   "execution_count": 52,
   "metadata": {},
   "outputs": [],
   "source": [
    "# MODEL='thesven/whisper-tiny-bn-thesven'\n",
    "MODEL='thesven/whisper-tiny-bn-thesven'\n",
    "LANGUAGE='bengali'\n",
    "TASK='transcribe'"
   ]
  },
  {
   "cell_type": "markdown",
   "metadata": {},
   "source": [
    "## Load in the test data"
   ]
  },
  {
   "cell_type": "code",
   "execution_count": 53,
   "metadata": {},
   "outputs": [
    {
     "name": "stdout",
     "output_type": "stream",
     "text": [
      "{'audio': {'path': './bengaliai-speech/test_mp3s/0f3dac00655e.mp3', 'array': array([ 1.77635684e-15, -1.42108547e-14,  2.48689958e-14, ...,\n",
      "       -8.83544737e-04, -2.18719291e-03, -2.56951153e-03]), 'sampling_rate': 16000}}\n"
     ]
    }
   ],
   "source": [
    "# Step 1: Get the file paths from the directory\n",
    "directory_path = './bengaliai-speech/test_mp3s/'\n",
    "file_paths = [os.path.join(directory_path, file_name) for file_name in os.listdir(directory_path) if file_name.endswith('.mp3')]\n",
    "\n",
    "# Step 2: Create a Hugging Face dataset with the file paths\n",
    "dataset = Dataset.from_dict({'audio': file_paths})\n",
    "# cast the column so that it contains the audio file path and the array of audio data\n",
    "dataset = dataset.cast_column(\"audio\", Audio(sampling_rate=16000))\n",
    "\n",
    "# Print the dataset\n",
    "print(dataset[0])"
   ]
  },
  {
   "cell_type": "markdown",
   "metadata": {},
   "source": [
    "## Create a processor and load the model"
   ]
  },
  {
   "cell_type": "code",
   "execution_count": 54,
   "metadata": {},
   "outputs": [],
   "source": [
    "processor = WhisperProcessor.from_pretrained(MODEL)\n",
    "model = WhisperForConditionalGeneration.from_pretrained(MODEL)\n",
    "forced_decoder_ids = processor.get_decoder_prompt_ids(language=LANGUAGE, task=TASK)"
   ]
  },
  {
   "cell_type": "markdown",
   "metadata": {},
   "source": [
    "## Prepare the test data for prediction"
   ]
  },
  {
   "cell_type": "code",
   "execution_count": 55,
   "metadata": {},
   "outputs": [
    {
     "data": {
      "text/html": [
       "<div>\n",
       "<style scoped>\n",
       "    .dataframe tbody tr th:only-of-type {\n",
       "        vertical-align: middle;\n",
       "    }\n",
       "\n",
       "    .dataframe tbody tr th {\n",
       "        vertical-align: top;\n",
       "    }\n",
       "\n",
       "    .dataframe thead th {\n",
       "        text-align: right;\n",
       "    }\n",
       "</style>\n",
       "<table border=\"1\" class=\"dataframe\">\n",
       "  <thead>\n",
       "    <tr style=\"text-align: right;\">\n",
       "      <th></th>\n",
       "      <th>Audio_Path</th>\n",
       "      <th>Input_Features</th>\n",
       "    </tr>\n",
       "  </thead>\n",
       "  <tbody>\n",
       "    <tr>\n",
       "      <th>0</th>\n",
       "      <td>./bengaliai-speech/test_mp3s/0f3dac00655e.mp3</td>\n",
       "      <td>[input_features]</td>\n",
       "    </tr>\n",
       "    <tr>\n",
       "      <th>1</th>\n",
       "      <td>./bengaliai-speech/test_mp3s/a9395e01ad21.mp3</td>\n",
       "      <td>[input_features]</td>\n",
       "    </tr>\n",
       "    <tr>\n",
       "      <th>2</th>\n",
       "      <td>./bengaliai-speech/test_mp3s/bf36ea8b718d.mp3</td>\n",
       "      <td>[input_features]</td>\n",
       "    </tr>\n",
       "  </tbody>\n",
       "</table>\n",
       "</div>"
      ],
      "text/plain": [
       "                                      Audio_Path    Input_Features\n",
       "0  ./bengaliai-speech/test_mp3s/0f3dac00655e.mp3  [input_features]\n",
       "1  ./bengaliai-speech/test_mp3s/a9395e01ad21.mp3  [input_features]\n",
       "2  ./bengaliai-speech/test_mp3s/bf36ea8b718d.mp3  [input_features]"
      ]
     },
     "execution_count": 55,
     "metadata": {},
     "output_type": "execute_result"
    }
   ],
   "source": [
    "import pandas as pd\n",
    "\n",
    "# List to store data\n",
    "data = []\n",
    "\n",
    "for audio in dataset:\n",
    "    audio = audio['audio']\n",
    "    input_features = processor(audio['array'], sampling_rate=audio['sampling_rate'], return_tensors=\"pt\")\n",
    "    data.append([audio['path'], input_features])\n",
    "\n",
    "# Convert data to a pandas DataFrame\n",
    "df_test_samples = pd.DataFrame(data, columns=['Audio_Path', 'Input_Features'])\n",
    "\n",
    "df_test_samples.head()"
   ]
  },
  {
   "cell_type": "markdown",
   "metadata": {},
   "source": [
    "## Perform the transcription"
   ]
  },
  {
   "cell_type": "code",
   "execution_count": 56,
   "metadata": {},
   "outputs": [
    {
     "name": "stdout",
     "output_type": "stream",
     "text": [
      "tensor([[[-0.8013, -0.8013, -0.8013,  ..., -0.8013, -0.8013, -0.8013],\n",
      "         [-0.8013, -0.8013, -0.8013,  ..., -0.8013, -0.8013, -0.8013],\n",
      "         [-0.8013, -0.8013, -0.8013,  ..., -0.8013, -0.8013, -0.8013],\n",
      "         ...,\n",
      "         [-0.8013, -0.8013, -0.8013,  ..., -0.8013, -0.8013, -0.8013],\n",
      "         [-0.8013, -0.8013, -0.8013,  ..., -0.8013, -0.8013, -0.8013],\n",
      "         [-0.8013, -0.8013, -0.8013,  ..., -0.8013, -0.8013, -0.8013]]])\n"
     ]
    },
    {
     "name": "stderr",
     "output_type": "stream",
     "text": [
      "/Volumes/Work/personal/Bengali-ASR-Kaggle/.venv/lib/python3.11/site-packages/transformers/generation/utils.py:1369: UserWarning: Using `max_length`'s default (448) to control the generation length. This behaviour is deprecated and will be removed from the config in v5 of Transformers -- we recommend using `max_new_tokens` to control the maximum length of the generation.\n",
      "  warnings.warn(\n"
     ]
    },
    {
     "name": "stdout",
     "output_type": "stream",
     "text": [
      "tensor([[[-0.6312, -0.6312, -0.6312,  ..., -0.6312, -0.6312, -0.6312],\n",
      "         [-0.6312, -0.6312, -0.6312,  ..., -0.6312, -0.6312, -0.6312],\n",
      "         [-0.6312, -0.6312, -0.6312,  ..., -0.6312, -0.6312, -0.6312],\n",
      "         ...,\n",
      "         [-0.6312, -0.6312, -0.6312,  ..., -0.6312, -0.6312, -0.6312],\n",
      "         [-0.6312, -0.6312, -0.6312,  ..., -0.6312, -0.6312, -0.6312],\n",
      "         [-0.6312, -0.6312, -0.6312,  ..., -0.6312, -0.6312, -0.6312]]])\n",
      "tensor([[[-0.5800, -0.5800, -0.5800,  ..., -0.5800, -0.5800, -0.5800],\n",
      "         [-0.5800, -0.5800, -0.5800,  ..., -0.5800, -0.5800, -0.5800],\n",
      "         [-0.5800, -0.5800, -0.5800,  ..., -0.5800, -0.5800, -0.5800],\n",
      "         ...,\n",
      "         [-0.5800, -0.5800, -0.5800,  ..., -0.5800, -0.5800, -0.5800],\n",
      "         [-0.5800, -0.5800, -0.5800,  ..., -0.5800, -0.5800, -0.5800],\n",
      "         [-0.5800, -0.5800, -0.5800,  ..., -0.5800, -0.5800, -0.5800]]])\n"
     ]
    },
    {
     "data": {
      "text/html": [
       "<div>\n",
       "<style scoped>\n",
       "    .dataframe tbody tr th:only-of-type {\n",
       "        vertical-align: middle;\n",
       "    }\n",
       "\n",
       "    .dataframe tbody tr th {\n",
       "        vertical-align: top;\n",
       "    }\n",
       "\n",
       "    .dataframe thead th {\n",
       "        text-align: right;\n",
       "    }\n",
       "</style>\n",
       "<table border=\"1\" class=\"dataframe\">\n",
       "  <thead>\n",
       "    <tr style=\"text-align: right;\">\n",
       "      <th></th>\n",
       "      <th>Audio_Path</th>\n",
       "      <th>Input_Features</th>\n",
       "      <th>Transcription</th>\n",
       "    </tr>\n",
       "  </thead>\n",
       "  <tbody>\n",
       "    <tr>\n",
       "      <th>0</th>\n",
       "      <td>./bengaliai-speech/test_mp3s/0f3dac00655e.mp3</td>\n",
       "      <td>[input_features]</td>\n",
       "      <td>এক্তু বয়ের শুলে একটি বিদেশি।</td>\n",
       "    </tr>\n",
       "    <tr>\n",
       "      <th>1</th>\n",
       "      <td>./bengaliai-speech/test_mp3s/a9395e01ad21.mp3</td>\n",
       "      <td>[input_features]</td>\n",
       "      <td>কি কারণে তুমি এতাবত কাল পর্রণ্ত এ দারল দৈবো দু...</td>\n",
       "    </tr>\n",
       "    <tr>\n",
       "      <th>2</th>\n",
       "      <td>./bengaliai-speech/test_mp3s/bf36ea8b718d.mp3</td>\n",
       "      <td>[input_features]</td>\n",
       "      <td>এ কারণে সর্কান্নে ধরিত হারে পরিবহন্জনীত খোতি অ...</td>\n",
       "    </tr>\n",
       "  </tbody>\n",
       "</table>\n",
       "</div>"
      ],
      "text/plain": [
       "                                      Audio_Path    Input_Features  \\\n",
       "0  ./bengaliai-speech/test_mp3s/0f3dac00655e.mp3  [input_features]   \n",
       "1  ./bengaliai-speech/test_mp3s/a9395e01ad21.mp3  [input_features]   \n",
       "2  ./bengaliai-speech/test_mp3s/bf36ea8b718d.mp3  [input_features]   \n",
       "\n",
       "                                       Transcription  \n",
       "0                       এক্তু বয়ের শুলে একটি বিদেশি।  \n",
       "1  কি কারণে তুমি এতাবত কাল পর্রণ্ত এ দারল দৈবো দু...  \n",
       "2  এ কারণে সর্কান্নে ধরিত হারে পরিবহন্জনীত খোতি অ...  "
      ]
     },
     "execution_count": 56,
     "metadata": {},
     "output_type": "execute_result"
    }
   ],
   "source": [
    "def get_transcription(row):\n",
    "    # Extract input features from the row\n",
    "    input_features_tensor = row['Input_Features']['input_features']\n",
    "    print(input_features_tensor)\n",
    "    \n",
    "    # Generate token ids\n",
    "    predicted_ids = model.generate(input_features_tensor, forced_decoder_ids=forced_decoder_ids)\n",
    "    \n",
    "    # Decode token ids to text\n",
    "    transcription = processor.batch_decode(predicted_ids, skip_special_tokens=True)\n",
    "    \n",
    "    return transcription[0]  # Assuming batch_decode returns a list, get the first item\n",
    "\n",
    "# Apply the function to each row and save the result in a new column 'Transcription'\n",
    "df_test_samples['Transcription'] = df_test_samples.apply(get_transcription, axis=1)\n",
    "\n",
    "df_test_samples.head()"
   ]
  },
  {
   "cell_type": "code",
   "execution_count": 57,
   "metadata": {},
   "outputs": [
    {
     "name": "stdout",
     "output_type": "stream",
     "text": [
      "এক্তু বয়ের শুলে একটি বিদেশি।\n",
      "কি কারণে তুমি এতাবত কাল পর্রণ্ত এ দারল দৈবো দুর্বি পাকে প্রতিত ছিলে করা।\n",
      "এ কারণে সর্কান্নে ধরিত হারে পরিবহন্জনীত খোতি অনুমাদন করে।\n"
     ]
    }
   ],
   "source": [
    "print(df_test_samples['Transcription'][0])\n",
    "print(df_test_samples['Transcription'][1])\n",
    "print(df_test_samples['Transcription'][2])"
   ]
  },
  {
   "cell_type": "code",
   "execution_count": null,
   "metadata": {},
   "outputs": [],
   "source": []
  }
 ],
 "metadata": {
  "kernelspec": {
   "display_name": ".venv",
   "language": "python",
   "name": "python3"
  },
  "language_info": {
   "codemirror_mode": {
    "name": "ipython",
    "version": 3
   },
   "file_extension": ".py",
   "mimetype": "text/x-python",
   "name": "python",
   "nbconvert_exporter": "python",
   "pygments_lexer": "ipython3",
   "version": "3.11.4"
  },
  "orig_nbformat": 4
 },
 "nbformat": 4,
 "nbformat_minor": 2
}
